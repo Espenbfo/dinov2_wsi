{
 "cells": [
  {
   "cell_type": "code",
   "execution_count": null,
   "metadata": {},
   "outputs": [],
   "source": [
    "from matplotlib import pyplot as plt\n",
    "from dataset import CamyleonDataset\n",
    "from pathlib import Path\n",
    "import random\n",
    "import numpy as np\n",
    "# from augmentations import Augmentations\n",
    "# from masking import MaskingGenerator\n",
    "import torch\n",
    "from model import Model, init_model\n",
    "from run_inference import infer_slide, remove_noise\n",
    "from monai.data import WSIReader\n",
    "import cv2\n",
    "%matplotlib inline\n",
    "%load_ext autoreload\n",
    "%autoreload 2"
   ]
  },
  {
   "cell_type": "code",
   "execution_count": null,
   "metadata": {},
   "outputs": [],
   "source": [
    "preprocessed_data_file = Path(\"/home/espenbfo/Documents/projects/dinov2_wsi/camelyon.hdf5\")\n",
    "\n",
    "sizes = (96, 768, 1024)\n",
    "\n",
    "dataset = CamyleonDataset(preprocessed_data_file, is_train=False, sizes=sizes)\n",
    "print(dataset.files)"
   ]
  },
  {
   "cell_type": "code",
   "execution_count": null,
   "metadata": {},
   "outputs": [],
   "source": [
    "(image1, image2, _), label = dataset.__getitem__(2)\n",
    "\n",
    "fig, (ax1, ax2) = plt.subplots(1,2, figsize=(40, 20))\n",
    "image1 = np.moveaxis(image1.numpy(), 0, 2)\n",
    "#image1[np.arange(224)%16==0]=0\n",
    "#image1[:,np.arange(224)%16==0]=0\n",
    "image2 = np.moveaxis(image2.numpy(), 0, 2)\n",
    "image2[16*5]=0\n",
    "image2[16*9]=0\n",
    "image2[:,16*5]=0\n",
    "image2[:,16*9]=0\n",
    "image3 = image2[16*5:16*9, 16*5:16*9]\n",
    "\n",
    "print(label)\n",
    "print(image1.shape)\n",
    "ax1.imshow(image1)\n",
    "ax2.imshow(image2)\n"
   ]
  },
  {
   "cell_type": "code",
   "execution_count": null,
   "metadata": {},
   "outputs": [],
   "source": [
    "label = 2\n",
    "index, key = dataset.label_to_index[label][0]\n",
    "images = dataset.retrieve_patch_with_label(2, index, key, sizes=sizes)\n",
    "\n",
    "fig, axes = plt.subplots(1,len(sizes), figsize=(10*len(sizes), 10))\n",
    "print(len(images))\n",
    "for i, ax in enumerate(axes):\n",
    "    ax.imshow(np.moveaxis(images[i].numpy(), 0, 2))"
   ]
  },
  {
   "cell_type": "code",
   "execution_count": null,
   "metadata": {},
   "outputs": [],
   "source": [
    "SIZES_AND_BACKBONES = (\n",
    "    (96, \"phikon\", None),\n",
    "    (288, \"normal\", \"weights/a100_full_87499.pth\")\n",
    "    )\n",
    "\n",
    "FILENAME = f\"weights{'-'.join(map(lambda x: str(x[0]), SIZES_AND_BACKBONES))}.pt\"\n",
    "\n",
    "model = init_model(2, SIZES_AND_BACKBONES)\n",
    "SIZES = [x[0] for x in SIZES_AND_BACKBONES]\n",
    "\n",
    "state_dict = torch.load(f\"weights{'-'.join(map(lambda x: str(x), SIZES))}.pt\")\n",
    "model.load_state_dict(state_dict)"
   ]
  },
  {
   "cell_type": "code",
   "execution_count": null,
   "metadata": {},
   "outputs": [],
   "source": [
    "slide_id = 5 # 7\n",
    "inference, ignored = infer_slide(dataset.files[\"images\"][slide_id], 32, model.to(\"cuda\"), distance_per_sample=96, sizes=SIZES)"
   ]
  },
  {
   "cell_type": "code",
   "execution_count": null,
   "metadata": {},
   "outputs": [],
   "source": [
    "noise_constant = 1\n",
    "\n",
    "inference_no_noise  =remove_noise(inference, noise_constant)\n",
    "\n",
    "fig, (ax1, ax2, ax3) = plt.subplots(1, 3, figsize=(20, 10))\n",
    "\n",
    "\n",
    "ax1.imshow(inference, vmin=0, vmax=1)\n",
    "ax2.imshow(inference_no_noise, vmin=0, vmax=1)\n",
    "ax3.imshow(ignored)"
   ]
  },
  {
   "cell_type": "code",
   "execution_count": null,
   "metadata": {},
   "outputs": [],
   "source": [
    "masked_file = dataset.files[\"masks\"][slide_id]\n",
    "image_file = dataset.files[\"images\"][slide_id]\n",
    "print(masked_file)\n",
    "print(dataset.files[\"images\"][slide_id])\n",
    "\n",
    "masked_reader = WSIReader(backend=\"tifffile\")\n",
    "masked_file = masked_reader.read(masked_file)\n",
    "mask = masked_reader.get_data(masked_file, level=6, mode=\"Å\")[0][0]\n",
    "\n",
    "\n",
    "image_reader = WSIReader(backend=\"cucim\")\n",
    "image_file = image_reader.read(image_file)\n",
    "image = np.moveaxis(image_reader.get_data(image_file, level=7, mode=\"RGB\")[0], 0, 2)\n",
    "fig, (ax1, ax2, ax3, ax4) = plt.subplots(1, 4, figsize=(20, 10))\n",
    "print(np.unique(mask[0]))\n",
    "ax1.imshow(inference+1-ignored)\n",
    "ax1.set_title(\"Predictions\")\n",
    "ax2.imshow(inference_no_noise+1-ignored)\n",
    "ax2.set_title(\"Predictions (noise removed)\")\n",
    "ax3.imshow(mask)\n",
    "ax3.set_title(\"Target mask\")\n",
    "ax4.imshow(image)\n",
    "ax4.set_title(\"Slide image\")"
   ]
  },
  {
   "cell_type": "code",
   "execution_count": null,
   "metadata": {},
   "outputs": [],
   "source": [
    "def balanced_accuracy(tp, fn, tn, fp):\n",
    "    return (tp.sum()/(tp.sum()+fn.sum())+tn.sum()/(tn.sum()+fp.sum()))/2\n",
    "max_threshold = 0.99\n",
    "N_THRESHOLDS = 300\n",
    "\n",
    "thresholds = np.linspace(1-max_threshold, max_threshold, N_THRESHOLDS)\n",
    "\n",
    "precs = []\n",
    "recs = []\n",
    "f1_scores = []\n",
    "\n",
    "resized = cv2.resize(inference, mask.shape[::-1])\n",
    "\n",
    "for threshold in thresholds:\n",
    "    inference_resized = np.round((resized>threshold).astype(float)).astype(int)\n",
    "    # inference_resized = np.round(cv2.resize((inference>threshold).astype(float), mask.shape[::-1])).astype(int)\n",
    "    out = np.zeros((*inference_resized.shape, 3))\n",
    "    out[:,:,1] = (mask==2)&(inference_resized==1)\n",
    "    out[:,:,0] = ((mask!=2)&(inference_resized==1))\n",
    "    #plt.imshow(out)\n",
    "\n",
    "    true_positives = (mask==2)&(inference_resized==1)\n",
    "    false_negative = (mask==2)&(inference_resized!=1)\n",
    "\n",
    "    false_positive = (mask!=2)&(inference_resized==1)\n",
    "    true_negative = (mask!=2)&(inference_resized!=1)\n",
    "\n",
    "    n_positives = (mask==2).sum()\n",
    "    n_negatives = (mask!=2).sum()\n",
    "    n_predicted_positives = (inference_resized==1).sum()\n",
    "\n",
    "    precision = true_positives.sum()/(true_positives.sum()+false_positive.sum())\n",
    "    recall = true_positives.sum()/n_positives\n",
    "\n",
    "    #print(f\"Recall {recall}\")\n",
    "    #print(f\"Precision {precision}\")\n",
    "\n",
    "    #print(f\"Recall on negative predicions {true_negative.sum()/n_negatives}\")\n",
    "\n",
    "    #print(f\"Balanced accuracy {balanced_accuracy(true_positives, false_negative, true_negative, false_positive)}\")\n",
    "    #print(f\"f1 score {2/(1/recall+1/precision)}\")\n",
    "\n",
    "    precs.append(precision)\n",
    "    recs.append(recall)\n",
    "    f1_scores.append(2/(1/recall+1/precision))\n",
    "\n",
    "max_f1_index = np.argmax(f1_scores)\n",
    "max_f1 = f1_scores[max_f1_index]\n",
    "print(f\"Max f1: {max_f1:.3f} at threshold {thresholds[max_f1_index]}\")\n",
    "print(f\"Precision and recall at max f1: {precs[max_f1_index]:.3f}, {recs[max_f1_index]:.3f}\")\n",
    "plt.plot(recs, precs, label=\"Precision Recall curve\")\n",
    "plt.plot(thresholds, f1_scores, label=\"f1_scores\")\n",
    "plt.legend()\n",
    "plt.xlim(0, 1)\n",
    "plt.ylim(0, 1)"
   ]
  },
  {
   "cell_type": "code",
   "execution_count": null,
   "metadata": {},
   "outputs": [],
   "source": [
    "threshold = (0.5, 0.8, 0.95, 0.98)\n",
    "\n",
    "fig, axes = plt.subplots(1,len(threshold), figsize=(5*len(threshold), 10))\n",
    "print(len(images))\n",
    "for i, ax in enumerate(axes):\n",
    "    ax.imshow(inference>threshold[i])\n"
   ]
  },
  {
   "cell_type": "code",
   "execution_count": null,
   "metadata": {},
   "outputs": [],
   "source": [
    "plt.imshow(inference)"
   ]
  },
  {
   "cell_type": "markdown",
   "metadata": {},
   "source": []
  }
 ],
 "metadata": {
  "kernelspec": {
   "display_name": ".venv",
   "language": "python",
   "name": "python3"
  },
  "language_info": {
   "codemirror_mode": {
    "name": "ipython",
    "version": 3
   },
   "file_extension": ".py",
   "mimetype": "text/x-python",
   "name": "python",
   "nbconvert_exporter": "python",
   "pygments_lexer": "ipython3",
   "version": "3.10.12"
  },
  "orig_nbformat": 4
 },
 "nbformat": 4,
 "nbformat_minor": 2
}
