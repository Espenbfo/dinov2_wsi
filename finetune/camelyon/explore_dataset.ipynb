{
 "cells": [
  {
   "cell_type": "code",
   "execution_count": null,
   "metadata": {},
   "outputs": [],
   "source": [
    "from matplotlib import pyplot as plt\n",
    "from dataset import CamyleonDataset\n",
    "from pathlib import Path\n",
    "import random\n",
    "import numpy as np\n",
    "# from augmentations import Augmentations\n",
    "# from masking import MaskingGenerator\n",
    "import torch\n",
    "import openslide\n",
    "%matplotlib inline\n",
    "%load_ext autoreload\n",
    "%autoreload 2"
   ]
  },
  {
   "cell_type": "code",
   "execution_count": null,
   "metadata": {},
   "outputs": [],
   "source": [
    "images_folder = Path(\"/home/espenbfo/datasets/camelyon/images\")\n",
    "masks_folder = Path(\"/home/espenbfo/datasets/camelyon/masks\")\n",
    "\n",
    "dataset = CamyleonDataset(images_folder, masks_folder)\n",
    "print(dataset.files)"
   ]
  },
  {
   "cell_type": "code",
   "execution_count": null,
   "metadata": {},
   "outputs": [],
   "source": [
    "image, mask = dataset.__getitem__(5)\n",
    "print(mask.max())\n",
    "print(image.shape)\n",
    "print(mask.shape)"
   ]
  },
  {
   "cell_type": "code",
   "execution_count": null,
   "metadata": {},
   "outputs": [],
   "source": [
    "fig, (ax1, ax2) = plt.subplots(1,2, figsize=(40, 20))\n",
    "\n",
    "\n",
    "ax1.imshow(np.moveaxis(image, 0, 2))\n",
    "ax2.imshow(np.moveaxis(mask, 0, 2))\n"
   ]
  }
 ],
 "metadata": {
  "kernelspec": {
   "display_name": ".venv",
   "language": "python",
   "name": "python3"
  },
  "language_info": {
   "codemirror_mode": {
    "name": "ipython",
    "version": 3
   },
   "file_extension": ".py",
   "mimetype": "text/x-python",
   "name": "python",
   "nbconvert_exporter": "python",
   "pygments_lexer": "ipython3",
   "version": "3.10.12"
  },
  "orig_nbformat": 4
 },
 "nbformat": 4,
 "nbformat_minor": 2
}
