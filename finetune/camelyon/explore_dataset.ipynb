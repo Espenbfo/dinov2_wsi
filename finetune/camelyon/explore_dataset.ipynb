{
 "cells": [
  {
   "cell_type": "code",
   "execution_count": null,
   "metadata": {},
   "outputs": [],
   "source": [
    "from matplotlib import pyplot as plt\n",
    "from dataset import CamyleonDataset\n",
    "from pathlib import Path\n",
    "import random\n",
    "import numpy as np\n",
    "# from augmentations import Augmentations\n",
    "# from masking import MaskingGenerator\n",
    "import torch\n",
    "%matplotlib inline\n",
    "%load_ext autoreload\n",
    "%autoreload 2"
   ]
  },
  {
   "cell_type": "code",
   "execution_count": null,
   "metadata": {},
   "outputs": [],
   "source": [
    "preprocessed_data_file = Path(\"/home/ubuntu/projects/dinov2_wsi/camyleon.hdf5\")\n",
    "\n",
    "dataset = CamyleonDataset(preprocessed_data_file)\n",
    "print(dataset.files)"
   ]
  },
  {
   "cell_type": "code",
   "execution_count": null,
   "metadata": {},
   "outputs": [],
   "source": [
    "image, mask = dataset.__getitem__(1)\n",
    "print(mask.max())\n",
    "print(image.shape)\n",
    "print(mask.shape)"
   ]
  },
  {
   "cell_type": "code",
   "execution_count": null,
   "metadata": {},
   "outputs": [],
   "source": [
    "(image1, image2), label = dataset.__getitem__(1)\n",
    "\n",
    "fig, (ax1, ax2) = plt.subplots(1,2, figsize=(40, 20))\n",
    "\n",
    "print(label)\n",
    "ax1.imshow(image1)\n",
    "ax2.imshow(image2)\n"
   ]
  },
  {
   "cell_type": "code",
   "execution_count": null,
   "metadata": {},
   "outputs": [],
   "source": [
    "sizes = (100, 500, 2500)\n",
    "\n",
    "images = dataset.retrieve_patch_with_label(2, 1, sizes=sizes)\n",
    "\n",
    "fig, axes = plt.subplots(1,len(sizes), figsize=(10*len(sizes), 10))\n",
    "\n",
    "for i, ax in enumerate(axes):\n",
    "    ax.imshow(images[i])"
   ]
  }
 ],
 "metadata": {
  "kernelspec": {
   "display_name": ".venv",
   "language": "python",
   "name": "python3"
  },
  "language_info": {
   "codemirror_mode": {
    "name": "ipython",
    "version": 3
   },
   "file_extension": ".py",
   "mimetype": "text/x-python",
   "name": "python",
   "nbconvert_exporter": "python",
   "pygments_lexer": "ipython3",
   "version": "3.10.12"
  },
  "orig_nbformat": 4
 },
 "nbformat": 4,
 "nbformat_minor": 2
}
