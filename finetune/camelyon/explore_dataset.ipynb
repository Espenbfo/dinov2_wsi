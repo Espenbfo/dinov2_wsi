{
 "cells": [
  {
   "cell_type": "code",
   "execution_count": 3,
   "metadata": {},
   "outputs": [
    {
     "name": "stdout",
     "output_type": "stream",
     "text": [
      "The autoreload extension is already loaded. To reload it, use:\n",
      "  %reload_ext autoreload\n"
     ]
    }
   ],
   "source": [
    "from matplotlib import pyplot as plt\n",
    "from dataset import CamyleonDataset\n",
    "from pathlib import Path\n",
    "import random\n",
    "import numpy as np\n",
    "# from augmentations import Augmentations\n",
    "# from masking import MaskingGenerator\n",
    "import torch\n",
    "%matplotlib inline\n",
    "%load_ext autoreload\n",
    "%autoreload 2"
   ]
  },
  {
   "cell_type": "code",
   "execution_count": 5,
   "metadata": {},
   "outputs": [
    {
     "name": "stdout",
     "output_type": "stream",
     "text": [
      "{1: [], 2: []}\n",
      "0\n",
      "<KeysViewHDF5 ['image_file', 'labels', 'mask_file']>\n",
      "1\n",
      "<KeysViewHDF5 ['image_file', 'labels', 'mask_file']>\n",
      "10\n",
      "<KeysViewHDF5 ['image_file', 'labels', 'mask_file']>\n",
      "11\n",
      "<KeysViewHDF5 ['image_file', 'labels', 'mask_file']>\n",
      "12\n",
      "<KeysViewHDF5 ['image_file', 'labels', 'mask_file']>\n",
      "13\n",
      "<KeysViewHDF5 ['image_file', 'labels', 'mask_file']>\n",
      "14\n",
      "<KeysViewHDF5 ['image_file', 'labels', 'mask_file']>\n",
      "15\n",
      "<KeysViewHDF5 ['image_file', 'labels', 'mask_file']>\n",
      "16\n",
      "<KeysViewHDF5 ['image_file', 'labels', 'mask_file']>\n",
      "17\n",
      "<KeysViewHDF5 ['image_file', 'labels', 'mask_file']>\n",
      "18\n",
      "<KeysViewHDF5 ['image_file', 'labels', 'mask_file']>\n",
      "19\n",
      "<KeysViewHDF5 ['image_file', 'labels', 'mask_file']>\n",
      "2\n",
      "<KeysViewHDF5 ['image_file', 'labels', 'mask_file']>\n",
      "20\n",
      "<KeysViewHDF5 ['image_file', 'labels', 'mask_file']>\n",
      "21\n",
      "<KeysViewHDF5 ['image_file', 'labels', 'mask_file']>\n",
      "22\n",
      "<KeysViewHDF5 ['image_file', 'labels', 'mask_file']>\n",
      "23\n",
      "<KeysViewHDF5 ['image_file', 'labels', 'mask_file']>\n",
      "24\n",
      "<KeysViewHDF5 ['image_file', 'labels', 'mask_file']>\n",
      "25\n",
      "<KeysViewHDF5 ['image_file', 'labels', 'mask_file']>\n",
      "26\n",
      "<KeysViewHDF5 ['image_file', 'labels', 'mask_file']>\n",
      "27\n",
      "<KeysViewHDF5 ['image_file', 'labels', 'mask_file']>\n",
      "28\n",
      "<KeysViewHDF5 ['image_file', 'labels', 'mask_file']>\n",
      "29\n",
      "<KeysViewHDF5 ['image_file', 'labels', 'mask_file']>\n",
      "3\n",
      "<KeysViewHDF5 ['image_file', 'labels', 'mask_file']>\n",
      "30\n",
      "<KeysViewHDF5 ['image_file', 'labels', 'mask_file']>\n",
      "31\n",
      "<KeysViewHDF5 ['image_file', 'labels', 'mask_file']>\n",
      "32\n",
      "<KeysViewHDF5 ['image_file', 'labels', 'mask_file']>\n",
      "33\n",
      "<KeysViewHDF5 ['image_file', 'labels', 'mask_file']>\n",
      "34\n",
      "<KeysViewHDF5 ['image_file', 'labels', 'mask_file']>\n",
      "35\n",
      "<KeysViewHDF5 ['image_file', 'labels', 'mask_file']>\n",
      "36\n",
      "<KeysViewHDF5 ['image_file', 'labels', 'mask_file']>\n",
      "37\n",
      "<KeysViewHDF5 ['image_file', 'labels', 'mask_file']>\n",
      "38\n",
      "<KeysViewHDF5 ['image_file', 'labels', 'mask_file']>\n",
      "39\n",
      "<KeysViewHDF5 ['image_file', 'labels', 'mask_file']>\n",
      "4\n",
      "<KeysViewHDF5 ['image_file', 'labels', 'mask_file']>\n",
      "40\n",
      "<KeysViewHDF5 ['image_file', 'labels', 'mask_file']>\n",
      "41\n",
      "<KeysViewHDF5 ['image_file', 'labels', 'mask_file']>\n",
      "42\n",
      "<KeysViewHDF5 ['image_file', 'labels', 'mask_file']>\n",
      "43\n",
      "<KeysViewHDF5 ['image_file', 'labels', 'mask_file']>\n",
      "44\n",
      "<KeysViewHDF5 ['image_file', 'labels', 'mask_file']>\n",
      "45\n",
      "<KeysViewHDF5 ['image_file', 'labels', 'mask_file']>\n",
      "46\n",
      "<KeysViewHDF5 ['image_file', 'labels', 'mask_file']>\n",
      "47\n",
      "<KeysViewHDF5 ['image_file', 'labels', 'mask_file']>\n",
      "48\n",
      "<KeysViewHDF5 ['image_file', 'labels', 'mask_file']>\n",
      "49\n",
      "<KeysViewHDF5 ['image_file', 'labels', 'mask_file']>\n",
      "5\n",
      "<KeysViewHDF5 ['image_file', 'labels', 'mask_file']>\n",
      "50\n",
      "<KeysViewHDF5 ['image_file', 'labels', 'mask_file']>\n",
      "6\n",
      "<KeysViewHDF5 ['image_file', 'labels', 'mask_file']>\n",
      "7\n",
      "<KeysViewHDF5 ['image_file', 'labels', 'mask_file']>\n",
      "8\n",
      "<KeysViewHDF5 ['image_file', 'labels', 'mask_file']>\n",
      "9\n",
      "<KeysViewHDF5 ['image_file', 'labels', 'mask_file']>\n",
      "{'masks': ['/home/espenbfo/datasets/camelyon/masks/patient_000_node_4_mask.tif', '/home/espenbfo/datasets/camelyon/masks/patient_001_node_3_mask.tif', '/home/espenbfo/datasets/camelyon/masks/patient_010_node_4_mask.tif', '/home/espenbfo/datasets/camelyon/masks/patient_011_node_1_mask.tif', '/home/espenbfo/datasets/camelyon/masks/patient_012_node_0_mask.tif', '/home/espenbfo/datasets/camelyon/masks/patient_015_node_1_mask.tif', '/home/espenbfo/datasets/camelyon/masks/patient_015_node_2_mask.tif', '/home/espenbfo/datasets/camelyon/masks/patient_016_node_1_mask.tif', '/home/espenbfo/datasets/camelyon/masks/patient_016_node_2_mask.tif', '/home/espenbfo/datasets/camelyon/masks/patient_017_node_1_mask.tif', '/home/espenbfo/datasets/camelyon/masks/patient_017_node_2_mask.tif', '/home/espenbfo/datasets/camelyon/masks/patient_017_node_4_mask.tif', '/home/espenbfo/datasets/camelyon/masks/patient_003_node_1_mask.tif', '/home/espenbfo/datasets/camelyon/masks/patient_020_node_2_mask.tif', '/home/espenbfo/datasets/camelyon/masks/patient_020_node_4_mask.tif', '/home/espenbfo/datasets/camelyon/masks/patient_021_node_3_mask.tif', '/home/espenbfo/datasets/camelyon/masks/patient_022_node_3_mask.tif', '/home/espenbfo/datasets/camelyon/masks/patient_022_node_4_mask.tif', '/home/espenbfo/datasets/camelyon/masks/patient_024_node_1_mask.tif', '/home/espenbfo/datasets/camelyon/masks/patient_024_node_2_mask.tif', '/home/espenbfo/datasets/camelyon/masks/patient_025_node_0_mask.tif', '/home/espenbfo/datasets/camelyon/masks/patient_025_node_1_mask.tif', '/home/espenbfo/datasets/camelyon/masks/patient_033_node_4_mask.tif', '/home/espenbfo/datasets/camelyon/masks/patient_004_node_2_mask.tif', '/home/espenbfo/datasets/camelyon/masks/patient_034_node_1_mask.tif', '/home/espenbfo/datasets/camelyon/masks/patient_034_node_2_mask.tif', '/home/espenbfo/datasets/camelyon/masks/patient_034_node_3_mask.tif', '/home/espenbfo/datasets/camelyon/masks/patient_035_node_1_mask.tif', '/home/espenbfo/datasets/camelyon/masks/patient_035_node_3_mask.tif', '/home/espenbfo/datasets/camelyon/masks/patient_036_node_3_mask.tif', '/home/espenbfo/datasets/camelyon/masks/patient_036_node_4_mask.tif', '/home/espenbfo/datasets/camelyon/masks/patient_037_node_4_mask.tif', '/home/espenbfo/datasets/camelyon/masks/patient_038_node_2_mask.tif', '/home/espenbfo/datasets/camelyon/masks/patient_039_node_1_mask.tif', '/home/espenbfo/datasets/camelyon/masks/patient_004_node_4_mask.tif', '/home/espenbfo/datasets/camelyon/masks/patient_040_node_2_mask.tif', '/home/espenbfo/datasets/camelyon/masks/patient_041_node_0_mask.tif', '/home/espenbfo/datasets/camelyon/masks/patient_042_node_0_mask.tif', '/home/espenbfo/datasets/camelyon/masks/patient_042_node_3_mask.tif', '/home/espenbfo/datasets/camelyon/masks/patient_042_node_4_mask.tif', '/home/espenbfo/datasets/camelyon/masks/patient_043_node_2_mask.tif', '/home/espenbfo/datasets/camelyon/masks/patient_043_node_3_mask.tif', '/home/espenbfo/datasets/camelyon/masks/patient_044_node_0_mask.tif', '/home/espenbfo/datasets/camelyon/masks/patient_044_node_1_mask.tif', '/home/espenbfo/datasets/camelyon/masks/patient_044_node_4_mask.tif', '/home/espenbfo/datasets/camelyon/masks/patient_005_node_0_mask.tif', '/home/espenbfo/datasets/camelyon/masks/patient_055_node_0_mask.tif', '/home/espenbfo/datasets/camelyon/masks/patient_006_node_0_mask.tif', '/home/espenbfo/datasets/camelyon/masks/patient_008_node_2_mask.tif', '/home/espenbfo/datasets/camelyon/masks/patient_009_node_1_mask.tif', '/home/espenbfo/datasets/camelyon/masks/patient_009_node_4_mask.tif'], 'images': ['/home/espenbfo/datasets/camelyon/images/patient_000_node_4.tif', '/home/espenbfo/datasets/camelyon/images/patient_001_node_3.tif', '/home/espenbfo/datasets/camelyon/images/patient_010_node_4.tif', '/home/espenbfo/datasets/camelyon/images/patient_011_node_1.tif', '/home/espenbfo/datasets/camelyon/images/patient_012_node_0.tif', '/home/espenbfo/datasets/camelyon/images/patient_015_node_1.tif', '/home/espenbfo/datasets/camelyon/images/patient_015_node_2.tif', '/home/espenbfo/datasets/camelyon/images/patient_016_node_1.tif', '/home/espenbfo/datasets/camelyon/images/patient_016_node_2.tif', '/home/espenbfo/datasets/camelyon/images/patient_017_node_1.tif', '/home/espenbfo/datasets/camelyon/images/patient_017_node_2.tif', '/home/espenbfo/datasets/camelyon/images/patient_017_node_4.tif', '/home/espenbfo/datasets/camelyon/images/patient_003_node_1.tif', '/home/espenbfo/datasets/camelyon/images/patient_020_node_2.tif', '/home/espenbfo/datasets/camelyon/images/patient_020_node_4.tif', '/home/espenbfo/datasets/camelyon/images/patient_021_node_3.tif', '/home/espenbfo/datasets/camelyon/images/patient_022_node_3.tif', '/home/espenbfo/datasets/camelyon/images/patient_022_node_4.tif', '/home/espenbfo/datasets/camelyon/images/patient_024_node_1.tif', '/home/espenbfo/datasets/camelyon/images/patient_024_node_2.tif', '/home/espenbfo/datasets/camelyon/images/patient_025_node_0.tif', '/home/espenbfo/datasets/camelyon/images/patient_025_node_1.tif', '/home/espenbfo/datasets/camelyon/images/patient_033_node_4.tif', '/home/espenbfo/datasets/camelyon/images/patient_004_node_2.tif', '/home/espenbfo/datasets/camelyon/images/patient_034_node_1.tif', '/home/espenbfo/datasets/camelyon/images/patient_034_node_2.tif', '/home/espenbfo/datasets/camelyon/images/patient_034_node_3.tif', '/home/espenbfo/datasets/camelyon/images/patient_035_node_1.tif', '/home/espenbfo/datasets/camelyon/images/patient_035_node_3.tif', '/home/espenbfo/datasets/camelyon/images/patient_036_node_3.tif', '/home/espenbfo/datasets/camelyon/images/patient_036_node_4.tif', '/home/espenbfo/datasets/camelyon/images/patient_037_node_4.tif', '/home/espenbfo/datasets/camelyon/images/patient_038_node_2.tif', '/home/espenbfo/datasets/camelyon/images/patient_039_node_1.tif', '/home/espenbfo/datasets/camelyon/images/patient_004_node_4.tif', '/home/espenbfo/datasets/camelyon/images/patient_040_node_2.tif', '/home/espenbfo/datasets/camelyon/images/patient_041_node_0.tif', '/home/espenbfo/datasets/camelyon/images/patient_042_node_0.tif', '/home/espenbfo/datasets/camelyon/images/patient_042_node_3.tif', '/home/espenbfo/datasets/camelyon/images/patient_042_node_4.tif', '/home/espenbfo/datasets/camelyon/images/patient_043_node_2.tif', '/home/espenbfo/datasets/camelyon/images/patient_043_node_3.tif', '/home/espenbfo/datasets/camelyon/images/patient_044_node_0.tif', '/home/espenbfo/datasets/camelyon/images/patient_044_node_1.tif', '/home/espenbfo/datasets/camelyon/images/patient_044_node_4.tif', '/home/espenbfo/datasets/camelyon/images/patient_005_node_0.tif', '/home/espenbfo/datasets/camelyon/images/patient_055_node_0.tif', '/home/espenbfo/datasets/camelyon/images/patient_006_node_0.tif', '/home/espenbfo/datasets/camelyon/images/patient_008_node_2.tif', '/home/espenbfo/datasets/camelyon/images/patient_009_node_1.tif', '/home/espenbfo/datasets/camelyon/images/patient_009_node_4.tif']}\n"
     ]
    }
   ],
   "source": [
    "preprocessed_data_file = Path(\"/home/espenbfo/Documents/projects/dinov2_wsi/camyleon.hdf5\")\n",
    "\n",
    "dataset = CamyleonDataset(preprocessed_data_file)\n",
    "print(dataset.files)"
   ]
  },
  {
   "cell_type": "code",
   "execution_count": 29,
   "metadata": {},
   "outputs": [
    {
     "ename": "ValueError",
     "evalue": "a must be greater than 0 unless no samples are taken",
     "output_type": "error",
     "traceback": [
      "\u001b[0;31m---------------------------------------------------------------------------\u001b[0m",
      "\u001b[0;31mValueError\u001b[0m                                Traceback (most recent call last)",
      "\u001b[1;32m/home/espenbfo/Documents/projects/dinov2_wsi/finetune/camelyon/explore_dataset.ipynb Cell 3\u001b[0m line \u001b[0;36m1\n\u001b[0;32m----> <a href='vscode-notebook-cell:/home/espenbfo/Documents/projects/dinov2_wsi/finetune/camelyon/explore_dataset.ipynb#X15sZmlsZQ%3D%3D?line=0'>1</a>\u001b[0m (image1, image2), label \u001b[39m=\u001b[39m dataset\u001b[39m.\u001b[39;49m\u001b[39m__getitem__\u001b[39;49m(\u001b[39m1\u001b[39;49m)\n\u001b[1;32m      <a href='vscode-notebook-cell:/home/espenbfo/Documents/projects/dinov2_wsi/finetune/camelyon/explore_dataset.ipynb#X15sZmlsZQ%3D%3D?line=2'>3</a>\u001b[0m fig, (ax1, ax2) \u001b[39m=\u001b[39m plt\u001b[39m.\u001b[39msubplots(\u001b[39m1\u001b[39m,\u001b[39m2\u001b[39m, figsize\u001b[39m=\u001b[39m(\u001b[39m40\u001b[39m, \u001b[39m20\u001b[39m))\n\u001b[1;32m      <a href='vscode-notebook-cell:/home/espenbfo/Documents/projects/dinov2_wsi/finetune/camelyon/explore_dataset.ipynb#X15sZmlsZQ%3D%3D?line=4'>5</a>\u001b[0m \u001b[39mprint\u001b[39m(label)\n",
      "File \u001b[0;32m~/Documents/projects/dinov2_wsi/finetune/camelyon/dataset.py:44\u001b[0m, in \u001b[0;36mCamyleonDataset.__getitem__\u001b[0;34m(self, index)\u001b[0m\n\u001b[1;32m     41\u001b[0m label \u001b[39m=\u001b[39m np\u001b[39m.\u001b[39mrandom\u001b[39m.\u001b[39mchoice(\u001b[39mself\u001b[39m\u001b[39m.\u001b[39mlabels)\n\u001b[1;32m     42\u001b[0m index \u001b[39m=\u001b[39m np\u001b[39m.\u001b[39mrandom\u001b[39m.\u001b[39mchoice(\u001b[39mself\u001b[39m\u001b[39m.\u001b[39mlabel_to_index[label])\n\u001b[0;32m---> 44\u001b[0m \u001b[39mreturn\u001b[39;00m \u001b[39mself\u001b[39;49m\u001b[39m.\u001b[39;49mretrieve_patch_with_label(label, index, (\u001b[39m100\u001b[39;49m, \u001b[39m400\u001b[39;49m)), label\n",
      "File \u001b[0;32m~/Documents/projects/dinov2_wsi/finetune/camelyon/dataset.py:81\u001b[0m, in \u001b[0;36mCamyleonDataset.retrieve_patch_with_label\u001b[0;34m(self, label, index, sizes)\u001b[0m\n\u001b[1;32m     78\u001b[0m mask_highest_level \u001b[39m=\u001b[39m \u001b[39mself\u001b[39m\u001b[39m.\u001b[39mreader_mask\u001b[39m.\u001b[39mget_level_count(mask_file) \u001b[39m-\u001b[39m \u001b[39m1\u001b[39m\n\u001b[1;32m     79\u001b[0m mask \u001b[39m=\u001b[39m \u001b[39mself\u001b[39m\u001b[39m.\u001b[39mreader_mask\u001b[39m.\u001b[39mget_data(mask_file, level\u001b[39m=\u001b[39mmask_highest_level, mode\u001b[39m=\u001b[39m\u001b[39m\"\u001b[39m\u001b[39mÅ\u001b[39m\u001b[39m\"\u001b[39m)\n\u001b[0;32m---> 81\u001b[0m coords \u001b[39m=\u001b[39m \u001b[39mself\u001b[39;49m\u001b[39m.\u001b[39;49mfind_random_area_with_label(mask[\u001b[39m0\u001b[39;49m][\u001b[39m0\u001b[39;49m], label)\n\u001b[1;32m     83\u001b[0m image_filename \u001b[39m=\u001b[39m \u001b[39mself\u001b[39m\u001b[39m.\u001b[39mfiles[\u001b[39m\"\u001b[39m\u001b[39mimages\u001b[39m\u001b[39m\"\u001b[39m][index]\n\u001b[1;32m     84\u001b[0m image_file \u001b[39m=\u001b[39m \u001b[39mself\u001b[39m\u001b[39m.\u001b[39mreader\u001b[39m.\u001b[39mread(image_filename)\n",
      "File \u001b[0;32m~/Documents/projects/dinov2_wsi/finetune/camelyon/dataset.py:67\u001b[0m, in \u001b[0;36mCamyleonDataset.find_random_area_with_label\u001b[0;34m(self, mask, label)\u001b[0m\n\u001b[1;32m     65\u001b[0m \u001b[39mdef\u001b[39;00m \u001b[39mfind_random_area_with_label\u001b[39m(\u001b[39mself\u001b[39m, mask: np\u001b[39m.\u001b[39mndarray, label: \u001b[39mint\u001b[39m):\n\u001b[1;32m     66\u001b[0m     valid_coords \u001b[39m=\u001b[39m np\u001b[39m.\u001b[39margwhere(mask \u001b[39m==\u001b[39m label)\n\u001b[0;32m---> 67\u001b[0m     random_coord \u001b[39m=\u001b[39m valid_coords[np\u001b[39m.\u001b[39;49mrandom\u001b[39m.\u001b[39;49mchoice(\u001b[39mlen\u001b[39;49m(valid_coords))]\n\u001b[1;32m     68\u001b[0m     mask_shape \u001b[39m=\u001b[39m mask\u001b[39m.\u001b[39mshape\n\u001b[1;32m     70\u001b[0m     y, x \u001b[39m=\u001b[39m random_coord[\u001b[39m0\u001b[39m] \u001b[39m/\u001b[39m mask_shape[\u001b[39m0\u001b[39m], random_coord[\u001b[39m1\u001b[39m] \u001b[39m/\u001b[39m mask_shape[\u001b[39m1\u001b[39m]\n",
      "File \u001b[0;32mmtrand.pyx:928\u001b[0m, in \u001b[0;36mnumpy.random.mtrand.RandomState.choice\u001b[0;34m()\u001b[0m\n",
      "\u001b[0;31mValueError\u001b[0m: a must be greater than 0 unless no samples are taken"
     ]
    }
   ],
   "source": [
    "(image1, image2), label = dataset.__getitem__(1)\n",
    "\n",
    "fig, (ax1, ax2) = plt.subplots(1,2, figsize=(40, 20))\n",
    "\n",
    "print(label)\n",
    "#ax1.imshow(image1)\n",
    "#ax2.imshow(image2)\n"
   ]
  },
  {
   "cell_type": "code",
   "execution_count": null,
   "metadata": {},
   "outputs": [],
   "source": [
    "sizes = (100, 500, 2500)\n",
    "\n",
    "images = dataset.retrieve_patch_with_label(2, 1, sizes=sizes)\n",
    "\n",
    "fig, axes = plt.subplots(1,len(sizes), figsize=(10*len(sizes), 10))\n",
    "\n",
    "for i, ax in enumerate(axes):\n",
    "    ax.imshow(images[i])"
   ]
  }
 ],
 "metadata": {
  "kernelspec": {
   "display_name": ".venv",
   "language": "python",
   "name": "python3"
  },
  "language_info": {
   "codemirror_mode": {
    "name": "ipython",
    "version": 3
   },
   "file_extension": ".py",
   "mimetype": "text/x-python",
   "name": "python",
   "nbconvert_exporter": "python",
   "pygments_lexer": "ipython3",
   "version": "3.10.12"
  },
  "orig_nbformat": 4
 },
 "nbformat": 4,
 "nbformat_minor": 2
}
