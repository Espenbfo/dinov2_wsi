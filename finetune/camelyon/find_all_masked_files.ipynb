{
 "cells": [
  {
   "cell_type": "code",
   "execution_count": 1,
   "metadata": {},
   "outputs": [],
   "source": [
    "import os\n",
    "from pathlib import Path\n"
   ]
  },
  {
   "cell_type": "code",
   "execution_count": 5,
   "metadata": {},
   "outputs": [
    {
     "name": "stdout",
     "output_type": "stream",
     "text": [
      "[PosixPath('/home/espenbfo/datasets/camelyon/masks/patient_000_node_4_mask.tif'), PosixPath('/home/espenbfo/datasets/camelyon/masks/patient_001_node_3_mask.tif'), PosixPath('/home/espenbfo/datasets/camelyon/masks/patient_003_node_1_mask.tif'), PosixPath('/home/espenbfo/datasets/camelyon/masks/patient_004_node_2_mask.tif'), PosixPath('/home/espenbfo/datasets/camelyon/masks/patient_004_node_4_mask.tif'), PosixPath('/home/espenbfo/datasets/camelyon/masks/patient_005_node_0_mask.tif'), PosixPath('/home/espenbfo/datasets/camelyon/masks/patient_006_node_0_mask.tif'), PosixPath('/home/espenbfo/datasets/camelyon/masks/patient_008_node_2_mask.tif'), PosixPath('/home/espenbfo/datasets/camelyon/masks/patient_009_node_1_mask.tif'), PosixPath('/home/espenbfo/datasets/camelyon/masks/patient_009_node_4_mask.tif'), PosixPath('/home/espenbfo/datasets/camelyon/masks/patient_010_node_4_mask.tif'), PosixPath('/home/espenbfo/datasets/camelyon/masks/patient_011_node_1_mask.tif'), PosixPath('/home/espenbfo/datasets/camelyon/masks/patient_012_node_0_mask.tif'), PosixPath('/home/espenbfo/datasets/camelyon/masks/patient_015_node_1_mask.tif'), PosixPath('/home/espenbfo/datasets/camelyon/masks/patient_015_node_2_mask.tif'), PosixPath('/home/espenbfo/datasets/camelyon/masks/patient_016_node_1_mask.tif'), PosixPath('/home/espenbfo/datasets/camelyon/masks/patient_016_node_2_mask.tif'), PosixPath('/home/espenbfo/datasets/camelyon/masks/patient_017_node_1_mask.tif'), PosixPath('/home/espenbfo/datasets/camelyon/masks/patient_017_node_2_mask.tif'), PosixPath('/home/espenbfo/datasets/camelyon/masks/patient_017_node_4_mask.tif'), PosixPath('/home/espenbfo/datasets/camelyon/masks/patient_020_node_2_mask.tif'), PosixPath('/home/espenbfo/datasets/camelyon/masks/patient_020_node_4_mask.tif'), PosixPath('/home/espenbfo/datasets/camelyon/masks/patient_021_node_3_mask.tif'), PosixPath('/home/espenbfo/datasets/camelyon/masks/patient_022_node_3_mask.tif'), PosixPath('/home/espenbfo/datasets/camelyon/masks/patient_022_node_4_mask.tif'), PosixPath('/home/espenbfo/datasets/camelyon/masks/patient_024_node_1_mask.tif'), PosixPath('/home/espenbfo/datasets/camelyon/masks/patient_024_node_2_mask.tif'), PosixPath('/home/espenbfo/datasets/camelyon/masks/patient_025_node_0_mask.tif'), PosixPath('/home/espenbfo/datasets/camelyon/masks/patient_025_node_1_mask.tif'), PosixPath('/home/espenbfo/datasets/camelyon/masks/patient_033_node_4_mask.tif'), PosixPath('/home/espenbfo/datasets/camelyon/masks/patient_034_node_1_mask.tif'), PosixPath('/home/espenbfo/datasets/camelyon/masks/patient_034_node_2_mask.tif'), PosixPath('/home/espenbfo/datasets/camelyon/masks/patient_034_node_3_mask.tif'), PosixPath('/home/espenbfo/datasets/camelyon/masks/patient_035_node_1_mask.tif'), PosixPath('/home/espenbfo/datasets/camelyon/masks/patient_035_node_3_mask.tif'), PosixPath('/home/espenbfo/datasets/camelyon/masks/patient_036_node_3_mask.tif'), PosixPath('/home/espenbfo/datasets/camelyon/masks/patient_036_node_4_mask.tif'), PosixPath('/home/espenbfo/datasets/camelyon/masks/patient_037_node_4_mask.tif'), PosixPath('/home/espenbfo/datasets/camelyon/masks/patient_038_node_2_mask.tif'), PosixPath('/home/espenbfo/datasets/camelyon/masks/patient_039_node_1_mask.tif'), PosixPath('/home/espenbfo/datasets/camelyon/masks/patient_040_node_2_mask.tif'), PosixPath('/home/espenbfo/datasets/camelyon/masks/patient_041_node_0_mask.tif'), PosixPath('/home/espenbfo/datasets/camelyon/masks/patient_042_node_0_mask.tif'), PosixPath('/home/espenbfo/datasets/camelyon/masks/patient_042_node_3_mask.tif'), PosixPath('/home/espenbfo/datasets/camelyon/masks/patient_042_node_4_mask.tif'), PosixPath('/home/espenbfo/datasets/camelyon/masks/patient_043_node_2_mask.tif'), PosixPath('/home/espenbfo/datasets/camelyon/masks/patient_043_node_3_mask.tif'), PosixPath('/home/espenbfo/datasets/camelyon/masks/patient_044_node_0_mask.tif'), PosixPath('/home/espenbfo/datasets/camelyon/masks/patient_044_node_1_mask.tif'), PosixPath('/home/espenbfo/datasets/camelyon/masks/patient_044_node_4_mask.tif'), PosixPath('/home/espenbfo/datasets/camelyon/masks/patient_045_node_1_mask.tif'), PosixPath('/home/espenbfo/datasets/camelyon/masks/patient_046_node_3_mask.tif'), PosixPath('/home/espenbfo/datasets/camelyon/masks/patient_046_node_4_mask.tif'), PosixPath('/home/espenbfo/datasets/camelyon/masks/patient_048_node_1_mask.tif'), PosixPath('/home/espenbfo/datasets/camelyon/masks/patient_051_node_2_mask.tif'), PosixPath('/home/espenbfo/datasets/camelyon/masks/patient_052_node_1_mask.tif'), PosixPath('/home/espenbfo/datasets/camelyon/masks/patient_052_node_4_mask.tif'), PosixPath('/home/espenbfo/datasets/camelyon/masks/patient_055_node_0_mask.tif'), PosixPath('/home/espenbfo/datasets/camelyon/masks/patient_057_node_4_mask.tif'), PosixPath('/home/espenbfo/datasets/camelyon/masks/patient_059_node_4_mask.tif'), PosixPath('/home/espenbfo/datasets/camelyon/masks/patient_060_node_1_mask.tif'), PosixPath('/home/espenbfo/datasets/camelyon/masks/patient_060_node_3_mask.tif'), PosixPath('/home/espenbfo/datasets/camelyon/masks/patient_061_node_0_mask.tif'), PosixPath('/home/espenbfo/datasets/camelyon/masks/patient_061_node_4_mask.tif'), PosixPath('/home/espenbfo/datasets/camelyon/masks/patient_062_node_2_mask.tif'), PosixPath('/home/espenbfo/datasets/camelyon/masks/patient_064_node_0_mask.tif'), PosixPath('/home/espenbfo/datasets/camelyon/masks/patient_066_node_1_mask.tif'), PosixPath('/home/espenbfo/datasets/camelyon/masks/patient_066_node_2_mask.tif'), PosixPath('/home/espenbfo/datasets/camelyon/masks/patient_067_node_0_mask.tif'), PosixPath('/home/espenbfo/datasets/camelyon/masks/patient_067_node_4_mask.tif'), PosixPath('/home/espenbfo/datasets/camelyon/masks/patient_068_node_1_mask.tif'), PosixPath('/home/espenbfo/datasets/camelyon/masks/patient_070_node_2_mask.tif'), PosixPath('/home/espenbfo/datasets/camelyon/masks/patient_072_node_0_mask.tif'), PosixPath('/home/espenbfo/datasets/camelyon/masks/patient_073_node_1_mask.tif'), PosixPath('/home/espenbfo/datasets/camelyon/masks/patient_074_node_0_mask.tif'), PosixPath('/home/espenbfo/datasets/camelyon/masks/patient_075_node_4_mask.tif'), PosixPath('/home/espenbfo/datasets/camelyon/masks/patient_076_node_0_mask.tif'), PosixPath('/home/espenbfo/datasets/camelyon/masks/patient_077_node_1_mask.tif'), PosixPath('/home/espenbfo/datasets/camelyon/masks/patient_078_node_2_mask.tif'), PosixPath('/home/espenbfo/datasets/camelyon/masks/patient_078_node_4_mask.tif'), PosixPath('/home/espenbfo/datasets/camelyon/masks/patient_080_node_1_mask.tif'), PosixPath('/home/espenbfo/datasets/camelyon/masks/patient_081_node_0_mask.tif'), PosixPath('/home/espenbfo/datasets/camelyon/masks/patient_081_node_4_mask.tif'), PosixPath('/home/espenbfo/datasets/camelyon/masks/patient_082_node_4_mask.tif'), PosixPath('/home/espenbfo/datasets/camelyon/masks/patient_083_node_4_mask.tif'), PosixPath('/home/espenbfo/datasets/camelyon/masks/patient_085_node_1_mask.tif'), PosixPath('/home/espenbfo/datasets/camelyon/masks/patient_086_node_0_mask.tif'), PosixPath('/home/espenbfo/datasets/camelyon/masks/patient_086_node_2_mask.tif'), PosixPath('/home/espenbfo/datasets/camelyon/masks/patient_086_node_4_mask.tif'), PosixPath('/home/espenbfo/datasets/camelyon/masks/patient_087_node_0_mask.tif'), PosixPath('/home/espenbfo/datasets/camelyon/masks/patient_088_node_1_mask.tif'), PosixPath('/home/espenbfo/datasets/camelyon/masks/patient_089_node_2_mask.tif'), PosixPath('/home/espenbfo/datasets/camelyon/masks/patient_089_node_3_mask.tif'), PosixPath('/home/espenbfo/datasets/camelyon/masks/patient_092_node_1_mask.tif'), PosixPath('/home/espenbfo/datasets/camelyon/masks/patient_092_node_2_mask.tif'), PosixPath('/home/espenbfo/datasets/camelyon/masks/patient_093_node_1_mask.tif'), PosixPath('/home/espenbfo/datasets/camelyon/masks/patient_096_node_0_mask.tif'), PosixPath('/home/espenbfo/datasets/camelyon/masks/patient_097_node_2_mask.tif'), PosixPath('/home/espenbfo/datasets/camelyon/masks/patient_099_node_3_mask.tif'), PosixPath('/home/espenbfo/datasets/camelyon/masks/patient_099_node_4_mask.tif')]\n"
     ]
    }
   ],
   "source": [
    "dataset_path = Path(\"/home/espenbfo/datasets/camelyon/masks/\")\n",
    "\n",
    "files = sorted(list(dataset_path.rglob(\"*\")))\n",
    "print(files)"
   ]
  },
  {
   "cell_type": "code",
   "execution_count": 8,
   "metadata": {},
   "outputs": [
    {
     "name": "stdout",
     "output_type": "stream",
     "text": [
      "images/patient_000_node_4.tif\n",
      "images/patient_001_node_3.tif\n",
      "images/patient_003_node_1.tif\n",
      "images/patient_004_node_2.tif\n",
      "images/patient_004_node_4.tif\n",
      "images/patient_005_node_0.tif\n",
      "images/patient_006_node_0.tif\n",
      "images/patient_008_node_2.tif\n",
      "images/patient_009_node_1.tif\n",
      "images/patient_009_node_4.tif\n",
      "images/patient_010_node_4.tif\n",
      "images/patient_011_node_1.tif\n",
      "images/patient_012_node_0.tif\n",
      "images/patient_015_node_1.tif\n",
      "images/patient_015_node_2.tif\n",
      "images/patient_016_node_1.tif\n",
      "images/patient_016_node_2.tif\n",
      "images/patient_017_node_1.tif\n",
      "images/patient_017_node_2.tif\n",
      "images/patient_017_node_4.tif\n",
      "images/patient_020_node_2.tif\n",
      "images/patient_020_node_4.tif\n",
      "images/patient_021_node_3.tif\n",
      "images/patient_022_node_3.tif\n",
      "images/patient_022_node_4.tif\n",
      "images/patient_024_node_1.tif\n",
      "images/patient_024_node_2.tif\n",
      "images/patient_025_node_0.tif\n",
      "images/patient_025_node_1.tif\n",
      "images/patient_033_node_4.tif\n",
      "images/patient_034_node_1.tif\n",
      "images/patient_034_node_2.tif\n",
      "images/patient_034_node_3.tif\n",
      "images/patient_035_node_1.tif\n",
      "images/patient_035_node_3.tif\n",
      "images/patient_036_node_3.tif\n",
      "images/patient_036_node_4.tif\n",
      "images/patient_037_node_4.tif\n",
      "images/patient_038_node_2.tif\n",
      "images/patient_039_node_1.tif\n",
      "images/patient_040_node_2.tif\n",
      "images/patient_041_node_0.tif\n",
      "images/patient_042_node_0.tif\n",
      "images/patient_042_node_3.tif\n",
      "images/patient_042_node_4.tif\n",
      "images/patient_043_node_2.tif\n",
      "images/patient_043_node_3.tif\n",
      "images/patient_044_node_0.tif\n",
      "images/patient_044_node_1.tif\n",
      "images/patient_044_node_4.tif\n",
      "images/patient_045_node_1.tif\n",
      "images/patient_046_node_3.tif\n",
      "images/patient_046_node_4.tif\n",
      "images/patient_048_node_1.tif\n",
      "images/patient_051_node_2.tif\n",
      "images/patient_052_node_1.tif\n",
      "images/patient_052_node_4.tif\n",
      "images/patient_055_node_0.tif\n",
      "images/patient_057_node_4.tif\n",
      "images/patient_059_node_4.tif\n",
      "images/patient_060_node_1.tif\n",
      "images/patient_060_node_3.tif\n",
      "images/patient_061_node_0.tif\n",
      "images/patient_061_node_4.tif\n",
      "images/patient_062_node_2.tif\n",
      "images/patient_064_node_0.tif\n",
      "images/patient_066_node_1.tif\n",
      "images/patient_066_node_2.tif\n",
      "images/patient_067_node_0.tif\n",
      "images/patient_067_node_4.tif\n",
      "images/patient_068_node_1.tif\n",
      "images/patient_070_node_2.tif\n",
      "images/patient_072_node_0.tif\n",
      "images/patient_073_node_1.tif\n",
      "images/patient_074_node_0.tif\n",
      "images/patient_075_node_4.tif\n",
      "images/patient_076_node_0.tif\n",
      "images/patient_077_node_1.tif\n",
      "images/patient_078_node_2.tif\n",
      "images/patient_078_node_4.tif\n",
      "images/patient_080_node_1.tif\n",
      "images/patient_081_node_0.tif\n",
      "images/patient_081_node_4.tif\n",
      "images/patient_082_node_4.tif\n",
      "images/patient_083_node_4.tif\n",
      "images/patient_085_node_1.tif\n",
      "images/patient_086_node_0.tif\n",
      "images/patient_086_node_2.tif\n",
      "images/patient_086_node_4.tif\n",
      "images/patient_087_node_0.tif\n",
      "images/patient_088_node_1.tif\n",
      "images/patient_089_node_2.tif\n",
      "images/patient_089_node_3.tif\n",
      "images/patient_092_node_1.tif\n",
      "images/patient_092_node_2.tif\n",
      "images/patient_093_node_1.tif\n",
      "images/patient_096_node_0.tif\n",
      "images/patient_097_node_2.tif\n",
      "images/patient_099_node_3.tif\n",
      "images/patient_099_node_4.tif\n",
      "\n"
     ]
    }
   ],
   "source": [
    "text = \"\"\n",
    "for file in files:\n",
    "    text += \"images/\" + file.name.replace(\"_mask\", \"\")\n",
    "    text += \"\\n\"\n",
    "print(text)\n",
    "\n",
    "with open(\"filenames.txt\", \"w\") as f:\n",
    "    f.write(text)\n"
   ]
  }
 ],
 "metadata": {
  "kernelspec": {
   "display_name": ".venv",
   "language": "python",
   "name": "python3"
  },
  "language_info": {
   "codemirror_mode": {
    "name": "ipython",
    "version": 3
   },
   "file_extension": ".py",
   "mimetype": "text/x-python",
   "name": "python",
   "nbconvert_exporter": "python",
   "pygments_lexer": "ipython3",
   "version": "3.10.12"
  },
  "orig_nbformat": 4
 },
 "nbformat": 4,
 "nbformat_minor": 2
}
