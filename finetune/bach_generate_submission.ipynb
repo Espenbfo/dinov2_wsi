{
 "cells": [
  {
   "cell_type": "code",
   "execution_count": null,
   "metadata": {},
   "outputs": [],
   "source": [
    "from bach_dataset import get_bach_test_dataset\n",
    "from dataset import load_dataloader\n",
    "from model import init_model, load_model\n",
    "import numpy as np\n",
    "import matplotlib.pyplot as plt\n",
    "import torch\n",
    "from tqdm import tqdm\n",
    "import pandas as pd\n",
    "\n",
    "%load_ext autoreload\n",
    "%autoreload 2\n"
   ]
  },
  {
   "cell_type": "code",
   "execution_count": null,
   "metadata": {},
   "outputs": [],
   "source": [
    "dataset = get_bach_test_dataset()\n",
    "DEVICE = \"cuda\"\n",
    "classes = [\"Benign\", \"InSitu\", \"Invasive\", \"Normal\"]\n",
    "class_map = {\"Benign\": 2, \"InSitu\": 3, \"Invasive\": 4, \"Normal\": 1}\n",
    "weights_path = \"weights_BACH_LONG_2.pt\"\n",
    "dataloader = load_dataloader(dataset, 1, classes=len(classes), shuffle=False)\n"
   ]
  },
  {
   "cell_type": "code",
   "execution_count": null,
   "metadata": {},
   "outputs": [],
   "source": [
    "model = init_model(len(classes), None, teacher_checkpoint=True, mode=\"normal\")\n",
    "for parameter in model.parameters():\n",
    "    parameter.requires_grad = False\n",
    "weights = torch.load(weights_path)\n",
    "model.load_state_dict(weights)\n",
    "model.eval()\n",
    "model = model.to(DEVICE)"
   ]
  },
  {
   "cell_type": "code",
   "execution_count": null,
   "metadata": {},
   "outputs": [],
   "source": [
    "preds = np.zeros(len(dataset), dtype=int)\n",
    "for index, batch in (pbar := tqdm(enumerate(dataloader), total=len(dataloader), dynamic_ncols=True, colour=\"red\")):\n",
    "    batch = batch.to(DEVICE)\n",
    "    class_index = torch.argmax(model(batch).cpu()[0])\n",
    "    alf_class = classes[class_index]\n",
    "    preds[index] = class_map[alf_class]"
   ]
  },
  {
   "cell_type": "code",
   "execution_count": null,
   "metadata": {},
   "outputs": [],
   "source": [
    "df = pd.DataFrame({\"case\": np.arange(0, 100), \"class\": preds})\n",
    "df"
   ]
  },
  {
   "cell_type": "code",
   "execution_count": null,
   "metadata": {},
   "outputs": [],
   "source": [
    "df.to_csv(\"submissions/fifth.csv\", index=False)"
   ]
  },
  {
   "cell_type": "code",
   "execution_count": null,
   "metadata": {},
   "outputs": [],
   "source": []
  },
  {
   "cell_type": "code",
   "execution_count": null,
   "metadata": {},
   "outputs": [],
   "source": [
    "def compare_submissions(df1: pd.DataFrame, df2: pd.DataFrame):\n",
    "    preds1 = df1[\"class\"].to_numpy()\n",
    "    preds2 = df2[\"class\"].to_numpy()\n",
    "\n",
    "    print(np.unique(preds1, return_counts=True))\n",
    "    print(np.unique(preds2, return_counts=True))\n",
    "    total = (preds1==preds2).astype(int).mean()\n",
    "    print(np.argwhere(preds1!=preds2))\n",
    "    return total"
   ]
  },
  {
   "cell_type": "code",
   "execution_count": null,
   "metadata": {},
   "outputs": [],
   "source": [
    "first = pd.read_csv(\"submissions/third.csv\")\n",
    "second = pd.read_csv(\"submissions/fifth.csv\")"
   ]
  },
  {
   "cell_type": "code",
   "execution_count": null,
   "metadata": {},
   "outputs": [],
   "source": [
    "score = compare_submissions(first, second)\n",
    "print(first.iloc[29])\n",
    "print(second.iloc[29])\n",
    "print(\"Similiarity\", score)"
   ]
  }
 ],
 "metadata": {
  "kernelspec": {
   "display_name": ".venv",
   "language": "python",
   "name": "python3"
  },
  "language_info": {
   "codemirror_mode": {
    "name": "ipython",
    "version": 3
   },
   "file_extension": ".py",
   "mimetype": "text/x-python",
   "name": "python",
   "nbconvert_exporter": "python",
   "pygments_lexer": "ipython3",
   "version": "3.10.12"
  }
 },
 "nbformat": 4,
 "nbformat_minor": 2
}
