{
 "cells": [
  {
   "cell_type": "code",
   "execution_count": null,
   "metadata": {},
   "outputs": [],
   "source": [
    "import json\n",
    "from pathlib import Path\n",
    "import pandas as pd\n",
    "import matplotlib.pyplot as plt"
   ]
  },
  {
   "cell_type": "code",
   "execution_count": null,
   "metadata": {},
   "outputs": [],
   "source": [
    "training_metrics_path = Path(\"/home/espenbfo/Downloads/training_metrics.json\")\n",
    "training_metrics = []\n",
    "with open(training_metrics_path, \"r\") as f:\n",
    "    for line in f.readlines():\n",
    "        training_metrics.append(json.loads(line))\n"
   ]
  },
  {
   "cell_type": "code",
   "execution_count": null,
   "metadata": {},
   "outputs": [],
   "source": [
    "df = pd.DataFrame(training_metrics, index=[m[\"iteration\"] for m in training_metrics])\n",
    "df.head()\n",
    "df[[\"total_loss\", \"dino_local_crops_loss\", \"dino_global_crops_loss\", \"koleo_loss\", \"ibot_loss\"]].plot(title=\"Batch loss by iteration\", ylabel=\"Loss\", xlabel=\"Iteration\")\n"
   ]
  },
  {
   "cell_type": "code",
   "execution_count": null,
   "metadata": {},
   "outputs": [],
   "source": [
    "df[[\"iter_time\", \"data_time\"]].plot()"
   ]
  },
  {
   "cell_type": "code",
   "execution_count": null,
   "metadata": {},
   "outputs": [],
   "source": [
    "df[\"lr\"].plot(ylabel=\"Learning Rate\", xlabel=\"Iteration\", title=\"Learning rate schedule\")"
   ]
  },
  {
   "cell_type": "code",
   "execution_count": null,
   "metadata": {},
   "outputs": [],
   "source": [
    "df[[\"mom\"]].plot()"
   ]
  },
  {
   "cell_type": "code",
   "execution_count": null,
   "metadata": {},
   "outputs": [],
   "source": [
    "import json\n",
    "import re"
   ]
  },
  {
   "cell_type": "code",
   "execution_count": null,
   "metadata": {},
   "outputs": [],
   "source": [
    "with open(\"results_samp_long_wilds.json\") as f:\n",
    "    results1 = json.load(f)\n",
    "with open(\"results_samp_long_wilds.json\") as f:\n",
    "    results2 = json.load(f)\n",
    "\n"
   ]
  },
  {
   "cell_type": "code",
   "execution_count": null,
   "metadata": {},
   "outputs": [],
   "source": [
    "def json_to_dataframe(json_dict):\n",
    "    print(json_dict.keys())\n",
    "    keys = sorted(json_dict.keys(), key=lambda x: int(re.findall(r\"[0-9]{4,}\", x)[0]))\n",
    "    index = sorted([int(re.findall(r\"[0-9]{4,}\", x)[0]) for x in json_dict.keys()])\n",
    "    means = []\n",
    "    stds = []\n",
    "    for key in keys:\n",
    "        temp_df = pd.DataFrame(json_dict[key])\n",
    "        #print(temp_df)\n",
    "        means.append(temp_df.mean())\n",
    "        stds.append(temp_df.std())\n",
    "    means = pd.DataFrame(means, index=index)\n",
    "    stds = pd.DataFrame(stds, index=index)\n",
    "    return means, stds"
   ]
  },
  {
   "cell_type": "code",
   "execution_count": null,
   "metadata": {},
   "outputs": [],
   "source": [
    "means_samp, stds_samp = json_to_dataframe(results1)\n",
    "#means_unif, stds_unif = json_to_dataframe(results2)\n",
    "print(\"Samp\")\n",
    "print(means_samp)\n",
    "print(\"Unif\")\n",
    "#print(means_unif)"
   ]
  },
  {
   "cell_type": "code",
   "execution_count": null,
   "metadata": {},
   "outputs": [],
   "source": [
    "plt.plot(means_samp.index, means_samp.rolling(3).mean()[\"Val Accuracy\"], label=\"new sampling\")\n",
    "plt.plot(means_unif.index, means_unif.rolling(3).mean()[\"Val Accuracy\"], label=\"uniform\")\n",
    "plt.legend()"
   ]
  },
  {
   "cell_type": "code",
   "execution_count": null,
   "metadata": {},
   "outputs": [],
   "source": [
    "means_samp.rolling(1).mean()[[\"Train Accuracy\", \"Test Accuracy\", \"Val Accuracy\"]].plot( )\n",
    "stds_samp.rolling(1).mean()[[\"Train Accuracy\", \"Test Accuracy\", \"Val Accuracy\"]].plot( )"
   ]
  },
  {
   "cell_type": "code",
   "execution_count": null,
   "metadata": {},
   "outputs": [],
   "source": [
    "#plt.plot(means.index, \"Test Accuracy\", data=means)\n",
    "means = means_samp\n",
    "stds = stds_samp\n",
    "label = \"Test Accuracy\"\n",
    "plt.errorbar(means.index, means[label], yerr=stds[label], label=label)\n",
    "label = \"Train Accuracy\"\n",
    "plt.errorbar(means.index, means[label], yerr=stds[label], label=label)\n",
    "plt.legend(loc=\"lower right\")\n",
    "plt.xlabel(\"Iterations\")\n",
    "plt.ylabel(\"Accuracy\")\n",
    "plt.title(\"PCam accuracy by checkpoint iteration\")\n",
    "plt.ylim(0.85, 0.95)"
   ]
  },
  {
   "cell_type": "code",
   "execution_count": null,
   "metadata": {},
   "outputs": [],
   "source": [
    "with open(\"results_sampling_PCam.json\") as f:\n",
    "    json_dict = json.load(f)\n",
    "\n",
    "index = [\"Constant\", \"Uniform\", \"Proportional\"]\n",
    "means = []\n",
    "stds = []\n",
    "for key in json_dict.keys():\n",
    "    temp_df = pd.DataFrame(json_dict[key])\n",
    "    #print(temp_df)\n",
    "    #pd.DataFrame.boxplot(temp_df[\"Test Accuracy\"], xlabel=key)\n",
    "\n",
    "    means.append(temp_df.mean())\n",
    "    stds.append(temp_df.std())\n",
    "means = pd.DataFrame(means, index=index)\n",
    "stds = pd.DataFrame(stds, index=index)\n",
    "print(means['Test Accuracy'])\n",
    "print(stds['Test Accuracy'])"
   ]
  },
  {
   "cell_type": "code",
   "execution_count": null,
   "metadata": {},
   "outputs": [],
   "source": [
    "means[\"Test Accuracy\"].plot.bar()\n",
    "plt.ylim(0.847, 0.893)\n",
    "plt.title(\"BACH\")\n",
    "plt.xlabel(\"Model\")\n",
    "plt.ylabel(\"Accuracy\")"
   ]
  }
 ],
 "metadata": {
  "kernelspec": {
   "display_name": ".venv",
   "language": "python",
   "name": "python3"
  },
  "language_info": {
   "codemirror_mode": {
    "name": "ipython",
    "version": 3
   },
   "file_extension": ".py",
   "mimetype": "text/x-python",
   "name": "python",
   "nbconvert_exporter": "python",
   "pygments_lexer": "ipython3",
   "version": "3.10.12"
  }
 },
 "nbformat": 4,
 "nbformat_minor": 2
}
